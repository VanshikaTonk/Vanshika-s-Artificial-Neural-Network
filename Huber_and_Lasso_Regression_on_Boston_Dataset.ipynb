{
  "nbformat": 4,
  "nbformat_minor": 0,
  "metadata": {
    "colab": {
      "provenance": []
    },
    "kernelspec": {
      "name": "python3",
      "display_name": "Python 3"
    },
    "language_info": {
      "name": "python"
    }
  },
  "cells": [
    {
      "cell_type": "code",
      "execution_count": null,
      "metadata": {
        "id": "6zwGrVG4DDl8"
      },
      "outputs": [],
      "source": [
        "import pandas as pd\n",
        "from sklearn.linear_model import LinearRegression\n",
        "\n",
        "\n",
        "# Load the data into a pandas DataFrame\n",
        "data = pd.read_csv('sales_data.csv')\n",
        "\n",
        "# Split the data into features (advertising spend) and target (sales)\n",
        "X = data['advertising_spend'].values.reshape(-1, 1)\n",
        "y = data['sales'].values\n",
        "\n",
        "# Create a linear regression model and fit it to the data\n",
        "model = LinearRegression()\n",
        "model.fit(X, y)\n",
        "\n",
        "# Print the model coefficients\n",
        "print('Intercept:', model.intercept_)\n",
        "print('Coefficient:', model.coef_[0])\n",
        "\n"
      ]
    },
    {
      "cell_type": "code",
      "source": [
        "from sklearn.linear_model import Lasso\n",
        "#from sklearn.datasets import load_boston\n",
        "from sklearn.model_selection import train_test_split\n",
        "from sklearn.datasets import fetch_california_housing\n",
        "housing = fetch_california_housing()\n",
        "\n",
        "# Load the data\n",
        "#boston = load_boston()\n",
        "X = housing.data\n",
        "y = housing.target\n",
        "\n",
        "# Split the data into training and test sets\n",
        "X_train, X_test, y_train, y_test = train_test_split(X, y, test_size=0.2, random_state=42)\n",
        "\n",
        "# Create a Lasso model\n",
        "lasso = Lasso(alpha=0.1)\n",
        "\n",
        "# Fit the model to the training data\n",
        "lasso.fit(X_train, y_train)\n",
        "\n",
        "# Print the coefficients of the Lasso model\n",
        "print(lasso.coef_)\n",
        "lasso"
      ],
      "metadata": {
        "id": "8BvsQR2kEc30"
      },
      "execution_count": null,
      "outputs": []
    },
    {
      "cell_type": "code",
      "source": [
        "import pandas as pd\n",
        "from sklearn.linear_model import LinearRegression\n",
        "from sklearn.preprocessing import PolynomialFeatures\n",
        "\n",
        "# Load the data into a pandas DataFrame\n",
        "data = pd.read_csv('sales_data.csv')\n",
        "\n",
        "# Split the data into features (advertising spend) and target (sales)\n",
        "X = data['advertising_spend'].values.reshape(-1, 1)\n",
        "y = data['sales'].values\n",
        "\n",
        "# Add polynomial features up to degree 2\n",
        "poly = PolynomialFeatures(degree=2)\n",
        "X_poly = poly.fit_transform(X)\n",
        "\n",
        "# Create a linear regression model and fit it to the data\n",
        "model = LinearRegression()\n",
        "model.fit(X_poly, y)\n",
        "\n",
        "# Print the model coefficients\n",
        "print('Intercept:', model.intercept_)\n",
        "print('Coefficients:', model.coef_)"
      ],
      "metadata": {
        "id": "C_llTIx1EjW0"
      },
      "execution_count": null,
      "outputs": []
    },
    {
      "cell_type": "code",
      "source": [
        "import pandas as pd\n",
        "from sklearn.linear_model import LinearRegression\n",
        "from sklearn.impute import SimpleImputer\n",
        "\n",
        "# Load the data into a pandas DataFrame\n",
        "data = pd.read_csv('sales_data2.csv')\n",
        "\n",
        "# Split the data into features and target\n",
        "X = data.drop('sales', axis=1)\n",
        "y = data['sales']\n",
        "tr\n",
        "# Create a SimpleImputer object and fit it to the data\n",
        "imputer = SimpleImputer(strategy='mean')\n",
        "X_imputed = imputer.fit_transform(X)\n",
        "\n",
        "# Create a linear regression model and fit it to the imputed data\n",
        "model = LinearRegression()\n",
        "model.fit(X_imputed, y)\n",
        "\n",
        "# Print the model coefficients\n",
        "print('Intercept:', model.intercept_)\n",
        "print('Coefficients:', model.coef_)\n",
        "\n",
        "\n"
      ],
      "metadata": {
        "id": "AvADXiggEmIM"
      },
      "execution_count": null,
      "outputs": []
    },
    {
      "cell_type": "code",
      "source": [
        "mport pandas as pd\n",
        "from sklearn.linear_model import HuberRegressor\n",
        "\n",
        "# Load the data into a pandas DataFrame\n",
        "data = pd.read_csv('data.csv')\n",
        "\n",
        "# Split the data into features and target\n",
        "X = data.drop(columns=['target']).values\n",
        "y = data['target'].values\n",
        "\n",
        "# Create a HuberRegressor object and fit it to the data\n",
        "model = HuberRegressor()\n",
        "model.fit(X, y)\n",
        "\n",
        "# Print the model coefficients\n",
        "print('Intercept:', model.intercept_)\n",
        "print('Coefficients:', model.coef_)\n",
        "\n",
        "\n",
        "\n",
        "\n",
        "\n",
        "# Load necessary libraries\n",
        "from sklearn.linear_model import Lasso\n",
        "from sklearn.preprocessing import StandardScaler\n",
        "\n",
        "# Load Boston Housing dataset\n",
        "#boston = load_boston()\n",
        "X = housing.data\n",
        "y = housing.target\n",
        "\n",
        "# Standardize the features\n",
        "scaler = StandardScaler()\n",
        "X_scaled = scaler.fit_transform(X)\n",
        "\n",
        "# Create Lasso Regression model with alpha=0.1\n",
        "lasso = Lasso(alpha=0.1)\n",
        "\n",
        "# Fit the model\n",
        "lasso.fit(X_scaled, y)\n",
        "\n",
        "# Print coefficients of the model\n",
        "print(lasso.coef_)\n",
        "\n",
        "\n",
        "\n",
        "\n"
      ],
      "metadata": {
        "id": "zgLbm1A0EpoM"
      },
      "execution_count": null,
      "outputs": []
    },
    {
      "cell_type": "code",
      "source": [
        "# Load necessary libraries\n",
        "import pandas as pd\n",
        "from sklearn.linear_model import LinearRegression\n",
        "from sklearn.metrics import mean_squared_error\n",
        "import numpy as np\n",
        "\n",
        "# Load data\n",
        "data = pd.read_csv(\"data.csv\")\n",
        "\n",
        "# Perform log transformation on the target variable\n",
        "data['target'] = np.log(data['target'])\n",
        "\n",
        "# Split the data into training and testing sets\n",
        "X_train, X_test, y_train, y_test = train_test_split(data.drop('target', axis=1), data['target'], test_size=0.2, random_state=42)\n",
        "\n",
        "# Create a Linear Regression model and fit the training data\n",
        "model = LinearRegression()\n",
        "model.fit(X_train, y_train)\n",
        "\n",
        "# Predict the target variable for the testing data\n",
        "y_pred = model.predict(X_test)\n",
        "\n",
        "# Compute the root mean squared error (RMSE) of the model\n",
        "rmse = np.sqrt(mean_squared_error(y_test, y_pred))\n",
        "print('RMSE:', rmse)\n",
        "\n",
        "\n"
      ],
      "metadata": {
        "id": "AtEgEe5cEv6j"
      },
      "execution_count": null,
      "outputs": []
    }
  ]
}